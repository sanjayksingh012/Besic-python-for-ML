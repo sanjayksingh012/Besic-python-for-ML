{
 "cells": [
  {
   "cell_type": "code",
   "execution_count": 2,
   "metadata": {},
   "outputs": [
    {
     "name": "stdout",
     "output_type": "stream",
     "text": [
      "[1 2 3 4 5 6 7 8 9]\n",
      "[1 2 3 4 5 6 7 8 9]\n",
      "[6 7 8 9]\n",
      "[1 2 3 4 5 6 7]\n",
      "[3 4 5 6 7 8 9]\n",
      "[3 5 7 9]\n"
     ]
    }
   ],
   "source": [
    "import numpy as np\n",
    "x=np.array([1,2,3,4,5,6,7,8,9])\n",
    "print(x)\n",
    "print(x[::]) # whole\n",
    "print(x[5:]) # 5th index onward\n",
    "print(x[:7]) # till 6th index\n",
    "print(x[2:9]) # 2nd to 8th index\n",
    "print(x[2:9:2]) # 2nd to 8th index increment by 2"
   ]
  },
  {
   "cell_type": "code",
   "execution_count": 3,
   "metadata": {},
   "outputs": [
    {
     "name": "stdout",
     "output_type": "stream",
     "text": [
      "[0.  0.2 0.4 0.6 0.8 1.  1.2 1.4 1.6 1.8 2.  2.2 2.4 2.6 2.8 3.  3.2 3.4\n",
      " 3.6 3.8 4.  4.2 4.4 4.6 4.8 5.  5.2 5.4 5.6 5.8 6.  6.2 6.4 6.6 6.8 7.\n",
      " 7.2 7.4 7.6 7.8 8.  8.2 8.4 8.6 8.8 9.  9.2 9.4 9.6 9.8]\n",
      "[ 0.   2.5  5.   7.5 10. ]\n"
     ]
    }
   ],
   "source": [
    "x=np.arange(0,10,0.2) # increment by 0.2\n",
    "print(x)\n",
    "y=np.linspace(0,10,5) # divide 0 to 10 in 20 equal partition\n",
    "print(y)"
   ]
  },
  {
   "cell_type": "code",
   "execution_count": 12,
   "metadata": {
    "scrolled": true
   },
   "outputs": [
    {
     "name": "stdout",
     "output_type": "stream",
     "text": [
      "[[1 2 3 4]\n",
      " [3 4 5 6]]\n",
      "(2, 4)\n",
      "Dimension= 2\n",
      "[[5 6]]\n",
      "[3 5]\n",
      "[3 4 5 6]\n"
     ]
    }
   ],
   "source": [
    "x=np.array([[1,2,3,4],[3,4,5,6]])\n",
    "print(x)\n",
    "print(x.shape)\n",
    "print('Dimension=',len(x.shape))\n",
    "###### slicing\n",
    "print(x[1:3,2:4])\n",
    "print(x[:,2])\n",
    "print(x[1,:])"
   ]
  },
  {
   "cell_type": "code",
   "execution_count": 15,
   "metadata": {},
   "outputs": [
    {
     "name": "stdout",
     "output_type": "stream",
     "text": [
      "(1, 2, 4)\n",
      "(2, 4)\n"
     ]
    }
   ],
   "source": [
    "######## increase and decrease dimension\n",
    "a=np.expand_dims(x,axis=0) # axis 0,1,2 already (2,4)\n",
    "print(a.shape)\n",
    "b=np.squeeze(a,axis=0) # delete extra dimension value=1\n",
    "print(b.shape)"
   ]
  },
  {
   "cell_type": "code",
   "execution_count": 4,
   "metadata": {},
   "outputs": [
    {
     "name": "stdout",
     "output_type": "stream",
     "text": [
      "0.36264131011331946\n",
      "[[0.01820398 0.36970852 0.47501903 0.80607207 0.62410163]\n",
      " [0.75481513 0.24383323 0.02581171 0.34531861 0.85707376]]\n",
      "61\n",
      "[[79 20 45 13 91]\n",
      " [39 66  9 35 52]]\n"
     ]
    }
   ],
   "source": [
    "##### special matrix\n",
    "a=np.zeros((3,4))\n",
    "b=np.ones((4,5))\n",
    "# Random\n",
    "c=np.random.random() # single value\n",
    "print(c)\n",
    "d=np.random.random((2,5)) # 2x5 matrix\n",
    "print(d)\n",
    "e=np.random.randint(0,100) # random integer inbetween 0 to 100\n",
    "print(e)\n",
    "f=np.random.randint(0,100,(2,5))# random integer inbetween 0 to 100 of shape 2 x5\n",
    "print(f)"
   ]
  },
  {
   "cell_type": "code",
   "execution_count": 9,
   "metadata": {},
   "outputs": [],
   "source": [
    "np.random.choice([1,2,3,4])\n",
    "np.random.shuffle([1,2,3,4])\n",
    "np.random.seed(123)"
   ]
  },
  {
   "cell_type": "code",
   "execution_count": 25,
   "metadata": {
    "scrolled": true
   },
   "outputs": [
    {
     "name": "stdout",
     "output_type": "stream",
     "text": [
      "[[ 98 115  57]\n",
      " [ 91 110 100]\n",
      " [ 43  73  77]]\n",
      "[[68 83 -7]\n",
      " [53 54 82]\n",
      " [25 65 23]]\n",
      "[[166 198  50]\n",
      " [144 164 182]\n",
      " [ 68 138 100]]\n",
      "[[1245 1584  800]\n",
      " [1368 2296  819]\n",
      " [ 306  276 1350]]\n",
      "[[3351 4200 4222]\n",
      " [3457 3812 5499]\n",
      " [2271 2676 3059]]\n",
      "[[3351 4200 4222]\n",
      " [3457 3812 5499]\n",
      " [2271 2676 3059]]\n",
      "[[571787 970299  15625]\n",
      " [373248 551368 753571]\n",
      " [ 39304 328509 125000]]\n",
      "[[2 0 1]\n",
      " [0 1 1]\n",
      " [1 0 2]]\n"
     ]
    }
   ],
   "source": [
    "# numpy operations\n",
    "a=np.random.randint(0,100,(3,3))\n",
    "b=np.random.randint(0,40,(3,3))\n",
    "print(a+b) # matrix addition\n",
    "print(a-b) # matrix substraction\n",
    "print(2*a) # multiply by 2\n",
    "print(a*b) # element by elemet multiplication\n",
    "print(np.dot(a,b)) # dot product\n",
    "print(a.dot(b)) # dot product\n",
    "print(a**3) # a to poer 3\n",
    "print(a%3) # modulo by 3"
   ]
  },
  {
   "cell_type": "code",
   "execution_count": 10,
   "metadata": {
    "scrolled": true
   },
   "outputs": [
    {
     "name": "stdout",
     "output_type": "stream",
     "text": [
      "[[66 92]\n",
      " [98 17]]\n",
      "Total Sum 273\n",
      "Sum column wise [164 109]\n",
      "Sum row wise [158 115]\n",
      "2\n",
      "[1 0]\n",
      "[1 0]\n"
     ]
    }
   ],
   "source": [
    "# numpy functions\n",
    "a=np.random.randint(0,100,(2,2))\n",
    "print(a)\n",
    "print('Total Sum',np.sum(a))\n",
    "print('Sum column wise',np.sum(a,axis=0))\n",
    "print('Sum row wise',np.sum(a,axis=1))\n",
    "# similirly for mean,max,std,var etc\n",
    "print(np.argmax(a)) # return maximum index\n",
    "print(np.argmax(a,axis=1)) # return maximum index in row\n",
    "print(np.argmax(a,axis=0)) # return maximum index in col"
   ]
  },
  {
   "cell_type": "code",
   "execution_count": 29,
   "metadata": {},
   "outputs": [
    {
     "data": {
      "text/plain": [
       "4.0"
      ]
     },
     "execution_count": 29,
     "metadata": {},
     "output_type": "execute_result"
    }
   ],
   "source": [
    "np.exp(1)\n",
    "np.sqrt(2)\n",
    "np.std([1,2,3,4,5,6,7])\n",
    "np.mean([1,2,3,4,5,6,7])\n",
    "np.var([1,2,3,4,5,6,7])\n",
    "np.median([1,2,3,4,5,6,7])"
   ]
  },
  {
   "cell_type": "code",
   "execution_count": 31,
   "metadata": {},
   "outputs": [
    {
     "data": {
      "text/plain": [
       "array([1, 2, 3, 4, 5, 6, 7])"
      ]
     },
     "execution_count": 31,
     "metadata": {},
     "output_type": "execute_result"
    }
   ],
   "source": [
    "x=[1,2,3,4,5,6,7]\n",
    "np.array(x)"
   ]
  },
  {
   "cell_type": "code",
   "execution_count": 36,
   "metadata": {},
   "outputs": [
    {
     "name": "stdout",
     "output_type": "stream",
     "text": [
      "[1 2 3 4]\n",
      "[3 3 1 1]\n"
     ]
    }
   ],
   "source": [
    "import numpy as np\n",
    "a,b=np.unique([1,2,1,2,1,2,3,4],return_counts=True)\n",
    "print(a)\n",
    "print(b)"
   ]
  }
 ],
 "metadata": {
  "kernelspec": {
   "display_name": "Python 3",
   "language": "python",
   "name": "python3"
  },
  "language_info": {
   "codemirror_mode": {
    "name": "ipython",
    "version": 3
   },
   "file_extension": ".py",
   "mimetype": "text/x-python",
   "name": "python",
   "nbconvert_exporter": "python",
   "pygments_lexer": "ipython3",
   "version": "3.8.3"
  }
 },
 "nbformat": 4,
 "nbformat_minor": 4
}
