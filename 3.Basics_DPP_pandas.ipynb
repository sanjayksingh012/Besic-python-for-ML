{
 "cells": [
  {
   "cell_type": "code",
   "execution_count": 2,
   "metadata": {},
   "outputs": [
    {
     "name": "stdout",
     "output_type": "stream",
     "text": [
      "    F1  F2  F3    F4    F5  F6 Country  Color  Target\n",
      "0    0   1   2   3.0   4.0   5     IND    red    Male\n",
      "1    1   2   3   4.0   5.0   6      UK    red    Male\n",
      "2    2   3   4   5.0   6.0   7     IND    red    Male\n",
      "3    3   4   5   6.0   7.0   8      UK    red    Male\n",
      "4    4   5   6   7.0   8.0   9     IND  green    Male\n",
      "5    5   6   7   8.0   9.0  10      UK  green    Male\n",
      "6    6   7   8   9.0  10.0  11     IND  green    Male\n",
      "7    7   8   9   NaN  11.0  12      UK  green  Female\n",
      "8    8   9  10   NaN  12.0  13     IND  green  Female\n",
      "9    9  10  11  12.0  13.0  14      UK  green  Female\n",
      "10  10  11  12  13.0   NaN  15     IND   blue  Female\n",
      "11  11  12  13  14.0   NaN  16      UK   blue  Female\n",
      "12  12  13  14  15.0  16.0  17     IND   blue  Female\n",
      "13  13  14  15  16.0  17.0  18      UK   blue  Female\n",
      "126\n",
      "Rows= 14\n",
      "Cols= 9\n",
      "(14, 9)\n",
      "[[0 1 2 3.0 4.0 5 'IND' 'red' 'Male']\n",
      " [1 2 3 4.0 5.0 6 'UK' 'red' 'Male']\n",
      " [2 3 4 5.0 6.0 7 'IND' 'red' 'Male']\n",
      " [3 4 5 6.0 7.0 8 'UK' 'red' 'Male']\n",
      " [4 5 6 7.0 8.0 9 'IND' 'green' 'Male']\n",
      " [5 6 7 8.0 9.0 10 'UK' 'green' 'Male']\n",
      " [6 7 8 9.0 10.0 11 'IND' 'green' 'Male']\n",
      " [7 8 9 nan 11.0 12 'UK' 'green' 'Female']\n",
      " [8 9 10 nan 12.0 13 'IND' 'green' 'Female']\n",
      " [9 10 11 12.0 13.0 14 'UK' 'green' 'Female']\n",
      " [10 11 12 13.0 nan 15 'IND' 'blue' 'Female']\n",
      " [11 12 13 14.0 nan 16 'UK' 'blue' 'Female']\n",
      " [12 13 14 15.0 16.0 17 'IND' 'blue' 'Female']\n",
      " [13 14 15 16.0 17.0 18 'UK' 'blue' 'Female']]\n",
      "DF has written sucessfully\n"
     ]
    }
   ],
   "source": [
    "import pandas as pd\n",
    "df=pd.read_csv('basics_data.csv') # read data\n",
    "print(df) # print DF\n",
    "print(df.size) # df size\n",
    "print('Rows=',df.shape[0])\n",
    "print('Cols=',df.shape[1])\n",
    "print(df.shape) # shape\n",
    "print(df.values) # numpy array\n",
    "df.to_csv('abc.csv',index=False)\n",
    "print('DF has written sucessfully')"
   ]
  },
  {
   "cell_type": "code",
   "execution_count": 3,
   "metadata": {},
   "outputs": [
    {
     "name": "stdout",
     "output_type": "stream",
     "text": [
      "    F1  F2  F3    F4    F5  F6 Country  Color  Target\n",
      "9    9  10  11  12.0  13.0  14      UK  green  Female\n",
      "10  10  11  12  13.0   NaN  15     IND   blue  Female\n",
      "11  11  12  13  14.0   NaN  16      UK   blue  Female\n",
      "12  12  13  14  15.0  16.0  17     IND   blue  Female\n",
      "13  13  14  15  16.0  17.0  18      UK   blue  Female\n",
      "   F1  F2  F3   F4   F5  F6 Country  Color Target\n",
      "0   0   1   2  3.0  4.0   5     IND    red   Male\n",
      "1   1   2   3  4.0  5.0   6      UK    red   Male\n",
      "2   2   3   4  5.0  6.0   7     IND    red   Male\n",
      "3   3   4   5  6.0  7.0   8      UK    red   Male\n",
      "4   4   5   6  7.0  8.0   9     IND  green   Male\n",
      "            F1       F2       F3         F4         F5       F6\n",
      "count  14.0000  14.0000  14.0000  12.000000  12.000000  14.0000\n",
      "mean    6.5000   7.5000   8.5000   9.333333   9.833333  11.5000\n",
      "std     4.1833   4.1833   4.1833   4.519319   4.152400   4.1833\n",
      "min     0.0000   1.0000   2.0000   3.000000   4.000000   5.0000\n",
      "25%     3.2500   4.2500   5.2500   5.750000   6.750000   8.2500\n",
      "50%     6.5000   7.5000   8.5000   8.500000   9.500000  11.5000\n",
      "75%     9.7500  10.7500  11.7500  13.250000  12.250000  14.7500\n",
      "max    13.0000  14.0000  15.0000  16.000000  17.000000  18.0000\n",
      "<class 'pandas.core.frame.DataFrame'>\n",
      "RangeIndex: 14 entries, 0 to 13\n",
      "Data columns (total 9 columns):\n",
      " #   Column   Non-Null Count  Dtype  \n",
      "---  ------   --------------  -----  \n",
      " 0   F1       14 non-null     int64  \n",
      " 1   F2       14 non-null     int64  \n",
      " 2   F3       14 non-null     int64  \n",
      " 3   F4       12 non-null     float64\n",
      " 4   F5       12 non-null     float64\n",
      " 5   F6       14 non-null     int64  \n",
      " 6   Country  14 non-null     object \n",
      " 7   Color    14 non-null     object \n",
      " 8   Target   14 non-null     object \n",
      "dtypes: float64(2), int64(4), object(3)\n",
      "memory usage: 1.1+ KB\n",
      "None\n"
     ]
    }
   ],
   "source": [
    "print(df.tail()) # bootom 5 rows\n",
    "print(df.head()) # top 5 rows\n",
    "print(df.describe()) # description of dataframe\n",
    "print(df.info()) # dataframe object"
   ]
  },
  {
   "cell_type": "code",
   "execution_count": 8,
   "metadata": {},
   "outputs": [
    {
     "data": {
      "text/plain": [
       "Int64Index([0, 1, 2, 3, 4, 5, 6], dtype='int64')"
      ]
     },
     "execution_count": 8,
     "metadata": {},
     "output_type": "execute_result"
    }
   ],
   "source": [
    "df['Target'] # for one column target\n",
    "df['Target'].value_counts() #value conts for target\n",
    "df.index[df['Target']=='Male'] # index which is male"
   ]
  },
  {
   "cell_type": "code",
   "execution_count": 9,
   "metadata": {},
   "outputs": [
    {
     "name": "stdout",
     "output_type": "stream",
     "text": [
      "    F2  F3    F4    F5  F6  Target\n",
      "0    1   2   3.0   4.0   5    Male\n",
      "1    2   3   4.0   5.0   6    Male\n",
      "2    3   4   5.0   6.0   7    Male\n",
      "3    4   5   6.0   7.0   8    Male\n",
      "4    5   6   7.0   8.0   9    Male\n",
      "5    6   7   8.0   9.0  10    Male\n",
      "6    7   8   9.0  10.0  11    Male\n",
      "7    8   9   NaN  11.0  12  Female\n",
      "8    9  10   NaN  12.0  13  Female\n",
      "9   10  11  12.0  13.0  14  Female\n",
      "10  11  12  13.0   NaN  15  Female\n",
      "11  12  13  14.0   NaN  16  Female\n",
      "12  13  14  15.0  16.0  17  Female\n",
      "13  14  15  16.0  17.0  18  Female\n"
     ]
    }
   ],
   "source": [
    "# delete a particular col\n",
    "df1=df.drop(['F1','Country','Color'],axis=1)\n",
    "print(df1)"
   ]
  },
  {
   "cell_type": "code",
   "execution_count": 10,
   "metadata": {},
   "outputs": [
    {
     "name": "stdout",
     "output_type": "stream",
     "text": [
      "    F1  F2  F3    F4    F5  F6 Country  Target  color_blue  color_green  \\\n",
      "0    0   1   2   3.0   4.0   5     IND    Male           0            0   \n",
      "1    1   2   3   4.0   5.0   6      UK    Male           0            0   \n",
      "2    2   3   4   5.0   6.0   7     IND    Male           0            0   \n",
      "3    3   4   5   6.0   7.0   8      UK    Male           0            0   \n",
      "4    4   5   6   7.0   8.0   9     IND    Male           0            1   \n",
      "5    5   6   7   8.0   9.0  10      UK    Male           0            1   \n",
      "6    6   7   8   9.0  10.0  11     IND    Male           0            1   \n",
      "7    7   8   9   NaN  11.0  12      UK  Female           0            1   \n",
      "8    8   9  10   NaN  12.0  13     IND  Female           0            1   \n",
      "9    9  10  11  12.0  13.0  14      UK  Female           0            1   \n",
      "10  10  11  12  13.0   NaN  15     IND  Female           1            0   \n",
      "11  11  12  13  14.0   NaN  16      UK  Female           1            0   \n",
      "12  12  13  14  15.0  16.0  17     IND  Female           1            0   \n",
      "13  13  14  15  16.0  17.0  18      UK  Female           1            0   \n",
      "\n",
      "    color_red  \n",
      "0           1  \n",
      "1           1  \n",
      "2           1  \n",
      "3           1  \n",
      "4           0  \n",
      "5           0  \n",
      "6           0  \n",
      "7           0  \n",
      "8           0  \n",
      "9           0  \n",
      "10          0  \n",
      "11          0  \n",
      "12          0  \n",
      "13          0  \n"
     ]
    }
   ],
   "source": [
    "######## OHE\n",
    "df1=pd.get_dummies(df['Color'],prefix='color')\n",
    "df2=pd.concat([df,df1],axis=1)\n",
    "df3=df2.drop(['Color'],axis=1)\n",
    "print(df3)"
   ]
  },
  {
   "cell_type": "code",
   "execution_count": 11,
   "metadata": {
    "scrolled": true
   },
   "outputs": [
    {
     "name": "stdout",
     "output_type": "stream",
     "text": [
      "    F1  F2  F3    F4    F5  F6 Country  Target  color_blue  color_green  \\\n",
      "0    0   1   2   3.0   4.0   5     IND       0           0            0   \n",
      "1    1   2   3   4.0   5.0   6      UK       0           0            0   \n",
      "2    2   3   4   5.0   6.0   7     IND       0           0            0   \n",
      "3    3   4   5   6.0   7.0   8      UK       0           0            0   \n",
      "4    4   5   6   7.0   8.0   9     IND       0           0            1   \n",
      "5    5   6   7   8.0   9.0  10      UK       0           0            1   \n",
      "6    6   7   8   9.0  10.0  11     IND       0           0            1   \n",
      "7    7   8   9   NaN  11.0  12      UK       1           0            1   \n",
      "8    8   9  10   NaN  12.0  13     IND       1           0            1   \n",
      "9    9  10  11  12.0  13.0  14      UK       1           0            1   \n",
      "10  10  11  12  13.0   NaN  15     IND       1           1            0   \n",
      "11  11  12  13  14.0   NaN  16      UK       1           1            0   \n",
      "12  12  13  14  15.0  16.0  17     IND       1           1            0   \n",
      "13  13  14  15  16.0  17.0  18      UK       1           1            0   \n",
      "\n",
      "    color_red  \n",
      "0           1  \n",
      "1           1  \n",
      "2           1  \n",
      "3           1  \n",
      "4           0  \n",
      "5           0  \n",
      "6           0  \n",
      "7           0  \n",
      "8           0  \n",
      "9           0  \n",
      "10          0  \n",
      "11          0  \n",
      "12          0  \n",
      "13          0  \n"
     ]
    }
   ],
   "source": [
    "######### Ordinal data [dictionary mapping]\n",
    "dict_tar={'Male':0,'Female':1}\n",
    "df3['Target']=df3['Target'].map(dict_tar)\n",
    "print(df3)"
   ]
  },
  {
   "cell_type": "code",
   "execution_count": 12,
   "metadata": {
    "scrolled": true
   },
   "outputs": [
    {
     "name": "stdout",
     "output_type": "stream",
     "text": [
      "UK     7\n",
      "IND    7\n",
      "Name: Country, dtype: int64\n",
      "['IND' 'UK']\n",
      "    F1  F2  F3    F4    F5  F6  Country  Target  color_blue  color_green  \\\n",
      "0    0   1   2   3.0   4.0   5        1       0           0            0   \n",
      "1    1   2   3   4.0   5.0   6        2       0           0            0   \n",
      "2    2   3   4   5.0   6.0   7        1       0           0            0   \n",
      "3    3   4   5   6.0   7.0   8        2       0           0            0   \n",
      "4    4   5   6   7.0   8.0   9        1       0           0            1   \n",
      "5    5   6   7   8.0   9.0  10        2       0           0            1   \n",
      "6    6   7   8   9.0  10.0  11        1       0           0            1   \n",
      "7    7   8   9   NaN  11.0  12        2       1           0            1   \n",
      "8    8   9  10   NaN  12.0  13        1       1           0            1   \n",
      "9    9  10  11  12.0  13.0  14        2       1           0            1   \n",
      "10  10  11  12  13.0   NaN  15        1       1           1            0   \n",
      "11  11  12  13  14.0   NaN  16        2       1           1            0   \n",
      "12  12  13  14  15.0  16.0  17        1       1           1            0   \n",
      "13  13  14  15  16.0  17.0  18        2       1           1            0   \n",
      "\n",
      "    color_red  \n",
      "0           1  \n",
      "1           1  \n",
      "2           1  \n",
      "3           1  \n",
      "4           0  \n",
      "5           0  \n",
      "6           0  \n",
      "7           0  \n",
      "8           0  \n",
      "9           0  \n",
      "10          0  \n",
      "11          0  \n",
      "12          0  \n",
      "13          0  \n"
     ]
    }
   ],
   "source": [
    "# value counts\n",
    "print(df3['Country'].value_counts())\n",
    "import numpy as np\n",
    "print(np.unique(df3['Country']))\n",
    "\n",
    "map_name={'IND':1,'UK':2}\n",
    "df3['Country']=df3['Country'].map(map_name)\n",
    "print(df3)"
   ]
  },
  {
   "cell_type": "code",
   "execution_count": 13,
   "metadata": {},
   "outputs": [
    {
     "name": "stdout",
     "output_type": "stream",
     "text": [
      "(14, 11)\n",
      "(10, 11)\n",
      "(4, 11)\n",
      "    F1  F2  F3    F4    F5  F6  Country  Target  color_blue  color_green  \\\n",
      "8    8   9  10   NaN  12.0  13        1       1           0            1   \n",
      "6    6   7   8   9.0  10.0  11        1       0           0            1   \n",
      "4    4   5   6   7.0   8.0   9        1       0           0            1   \n",
      "11  11  12  13  14.0   NaN  16        2       1           1            0   \n",
      "2    2   3   4   5.0   6.0   7        1       0           0            0   \n",
      "13  13  14  15  16.0  17.0  18        2       1           1            0   \n",
      "9    9  10  11  12.0  13.0  14        2       1           0            1   \n",
      "1    1   2   3   4.0   5.0   6        2       0           0            0   \n",
      "7    7   8   9   NaN  11.0  12        2       1           0            1   \n",
      "10  10  11  12  13.0   NaN  15        1       1           1            0   \n",
      "\n",
      "    color_red  \n",
      "8           0  \n",
      "6           0  \n",
      "4           0  \n",
      "11          0  \n",
      "2           1  \n",
      "13          0  \n",
      "9           0  \n",
      "1           1  \n",
      "7           0  \n",
      "10          0  \n",
      "    F1  F2  F3    F4    F5  F6  Country  Target  color_blue  color_green  \\\n",
      "0    0   1   2   3.0   4.0   5        1       0           0            0   \n",
      "3    3   4   5   6.0   7.0   8        2       0           0            0   \n",
      "5    5   6   7   8.0   9.0  10        2       0           0            1   \n",
      "12  12  13  14  15.0  16.0  17        1       1           1            0   \n",
      "\n",
      "    color_red  \n",
      "0           1  \n",
      "3           1  \n",
      "5           0  \n",
      "12          0  \n"
     ]
    }
   ],
   "source": [
    "################# TRAIN TEST SPLIT DataFRame\n",
    "df_train=df3.sample(frac=0.7,random_state=0)\n",
    "df_test=df3.drop(df_train.index)\n",
    "print(df3.shape)\n",
    "print(df_train.shape)\n",
    "print(df_test.shape)\n",
    "print(df_train)\n",
    "print(df_test)"
   ]
  },
  {
   "cell_type": "code",
   "execution_count": 14,
   "metadata": {},
   "outputs": [
    {
     "name": "stdout",
     "output_type": "stream",
     "text": [
      "F1             0\n",
      "F2             0\n",
      "F3             0\n",
      "F4             2\n",
      "F5             2\n",
      "F6             0\n",
      "Country        0\n",
      "Target         0\n",
      "color_blue     0\n",
      "color_green    0\n",
      "color_red      0\n",
      "dtype: int64\n",
      "    F1  F2  F3    F4    F5  F6  Country  Target  color_blue  color_green  \\\n",
      "0    0   1   2   3.0   4.0   5        1       0           0            0   \n",
      "1    1   2   3   4.0   5.0   6        2       0           0            0   \n",
      "2    2   3   4   5.0   6.0   7        1       0           0            0   \n",
      "3    3   4   5   6.0   7.0   8        2       0           0            0   \n",
      "4    4   5   6   7.0   8.0   9        1       0           0            1   \n",
      "5    5   6   7   8.0   9.0  10        2       0           0            1   \n",
      "6    6   7   8   9.0  10.0  11        1       0           0            1   \n",
      "9    9  10  11  12.0  13.0  14        2       1           0            1   \n",
      "12  12  13  14  15.0  16.0  17        1       1           1            0   \n",
      "13  13  14  15  16.0  17.0  18        2       1           1            0   \n",
      "\n",
      "    color_red  \n",
      "0           1  \n",
      "1           1  \n",
      "2           1  \n",
      "3           1  \n",
      "4           0  \n",
      "5           0  \n",
      "6           0  \n",
      "9           0  \n",
      "12          0  \n",
      "13          0  \n"
     ]
    }
   ],
   "source": [
    "####### check for missing values and DELETE\n",
    "print(df3.isna().sum())\n",
    "df4=df3.dropna() # delete all missing values\n",
    "print(df4)"
   ]
  },
  {
   "cell_type": "code",
   "execution_count": 15,
   "metadata": {},
   "outputs": [
    {
     "name": "stdout",
     "output_type": "stream",
     "text": [
      "[0 0 0 0 0 0 0 1 1 1 1 1 1 1]\n",
      "[[ 0.  1.  2.  3.  4.  5.  1.  0.  0.  1.]\n",
      " [ 1.  2.  3.  4.  5.  6.  2.  0.  0.  1.]\n",
      " [ 2.  3.  4.  5.  6.  7.  1.  0.  0.  1.]\n",
      " [ 3.  4.  5.  6.  7.  8.  2.  0.  0.  1.]\n",
      " [ 4.  5.  6.  7.  8.  9.  1.  0.  1.  0.]\n",
      " [ 5.  6.  7.  8.  9. 10.  2.  0.  1.  0.]\n",
      " [ 6.  7.  8.  9. 10. 11.  1.  0.  1.  0.]\n",
      " [ 7.  8.  9. nan 11. 12.  2.  0.  1.  0.]\n",
      " [ 8.  9. 10. nan 12. 13.  1.  0.  1.  0.]\n",
      " [ 9. 10. 11. 12. 13. 14.  2.  0.  1.  0.]\n",
      " [10. 11. 12. 13. nan 15.  1.  1.  0.  0.]\n",
      " [11. 12. 13. 14. nan 16.  2.  1.  0.  0.]\n",
      " [12. 13. 14. 15. 16. 17.  1.  1.  0.  0.]\n",
      " [13. 14. 15. 16. 17. 18.  2.  1.  0.  0.]]\n"
     ]
    }
   ],
   "source": [
    "############# het input X and target y from Data\n",
    "y=df3['Target'].values\n",
    "print(y)\n",
    "x=df3.drop(['Target'],axis=1).values\n",
    "print(x)"
   ]
  },
  {
   "cell_type": "code",
   "execution_count": 16,
   "metadata": {},
   "outputs": [
    {
     "name": "stdout",
     "output_type": "stream",
     "text": [
      "[[ 0.          1.          2.          3.          4.          5.\n",
      "   1.          0.          0.          1.        ]\n",
      " [ 1.          2.          3.          4.          5.          6.\n",
      "   2.          0.          0.          1.        ]\n",
      " [ 2.          3.          4.          5.          6.          7.\n",
      "   1.          0.          0.          1.        ]\n",
      " [ 3.          4.          5.          6.          7.          8.\n",
      "   2.          0.          0.          1.        ]\n",
      " [ 4.          5.          6.          7.          8.          9.\n",
      "   1.          0.          1.          0.        ]\n",
      " [ 5.          6.          7.          8.          9.         10.\n",
      "   2.          0.          1.          0.        ]\n",
      " [ 6.          7.          8.          9.         10.         11.\n",
      "   1.          0.          1.          0.        ]\n",
      " [ 7.          8.          9.          9.33333333 11.         12.\n",
      "   2.          0.          1.          0.        ]\n",
      " [ 8.          9.         10.          9.33333333 12.         13.\n",
      "   1.          0.          1.          0.        ]\n",
      " [ 9.         10.         11.         12.         13.         14.\n",
      "   2.          0.          1.          0.        ]\n",
      " [10.         11.         12.         13.          9.83333333 15.\n",
      "   1.          1.          0.          0.        ]\n",
      " [11.         12.         13.         14.          9.83333333 16.\n",
      "   2.          1.          0.          0.        ]\n",
      " [12.         13.         14.         15.         16.         17.\n",
      "   1.          1.          0.          0.        ]\n",
      " [13.         14.         15.         16.         17.         18.\n",
      "   2.          1.          0.          0.        ]]\n"
     ]
    }
   ],
   "source": [
    "import numpy as np\n",
    "from sklearn.impute import SimpleImputer\n",
    "#  #mean, meadian,most_frequent,constant, fill_value=0\n",
    "imp_mean = SimpleImputer(missing_values=np.nan, strategy='mean')#,fill_value=0)\n",
    "x=imp_mean.fit_transform(x)\n",
    "print(x)"
   ]
  },
  {
   "cell_type": "code",
   "execution_count": 33,
   "metadata": {},
   "outputs": [
    {
     "name": "stdout",
     "output_type": "stream",
     "text": [
      "    F1  F2  F3    F4    F5  F6 Country  Color  Target\n",
      "0    0   1   2   3.0   4.0   5     IND    red    Male\n",
      "1    1   2   3   4.0   5.0   6      UK    red    Male\n",
      "2    2   3   4   5.0   6.0   7     IND    red    Male\n",
      "3    3   4   5   6.0   7.0   8      UK    red    Male\n",
      "4    4   5   6   7.0   8.0   9     IND  green    Male\n",
      "5    5   6   7   8.0   9.0  10      UK  green    Male\n",
      "6    6   7   8   9.0  10.0  11     IND  green    Male\n",
      "7    7   8   9   NaN  11.0  12      UK  green  Female\n",
      "8    8   9  10   NaN  12.0  13     IND  green  Female\n",
      "9    9  10  11  12.0  13.0  14      UK  green  Female\n",
      "10  10  11  12  13.0   NaN  15     IND   blue  Female\n",
      "11  11  12  13  14.0   NaN  16      UK   blue  Female\n",
      "12  12  13  14  15.0  16.0  17     IND   blue  Female\n",
      "13  13  14  15  16.0  17.0  18      UK   blue  Female\n",
      "F1         0\n",
      "F2         0\n",
      "F3         0\n",
      "F4         2\n",
      "F5         2\n",
      "F6         0\n",
      "Country    0\n",
      "Color      0\n",
      "Target     0\n",
      "dtype: int64\n",
      "    F1  F2  F3    F4  F5  F6 Country Color  Target\n",
      "10  10  11  12  13.0 NaN  15     IND  blue  Female\n",
      "11  11  12  13  14.0 NaN  16      UK  blue  Female\n"
     ]
    },
    {
     "data": {
      "text/html": [
       "<div>\n",
       "<style scoped>\n",
       "    .dataframe tbody tr th:only-of-type {\n",
       "        vertical-align: middle;\n",
       "    }\n",
       "\n",
       "    .dataframe tbody tr th {\n",
       "        vertical-align: top;\n",
       "    }\n",
       "\n",
       "    .dataframe thead th {\n",
       "        text-align: right;\n",
       "    }\n",
       "</style>\n",
       "<table border=\"1\" class=\"dataframe\">\n",
       "  <thead>\n",
       "    <tr style=\"text-align: right;\">\n",
       "      <th></th>\n",
       "      <th>F4</th>\n",
       "      <th>Target</th>\n",
       "    </tr>\n",
       "  </thead>\n",
       "  <tbody>\n",
       "    <tr>\n",
       "      <th>7</th>\n",
       "      <td>NaN</td>\n",
       "      <td>Female</td>\n",
       "    </tr>\n",
       "    <tr>\n",
       "      <th>8</th>\n",
       "      <td>NaN</td>\n",
       "      <td>Female</td>\n",
       "    </tr>\n",
       "  </tbody>\n",
       "</table>\n",
       "</div>"
      ],
      "text/plain": [
       "   F4  Target\n",
       "7 NaN  Female\n",
       "8 NaN  Female"
      ]
     },
     "execution_count": 33,
     "metadata": {},
     "output_type": "execute_result"
    }
   ],
   "source": [
    "####### Imputing the value by mean of that class [NOT of same attribute]\n",
    "df=pd.read_csv('basics_data.csv') # read data\n",
    "print(df)\n",
    "print(df.isna().sum())\n",
    "print(df[df['F5'].isna()]) # display the whole data for F5 missing values\n",
    "df[df['F4'].isna()][['F4','Target']] # display the data for F5 missing values"
   ]
  },
  {
   "cell_type": "code",
   "execution_count": 36,
   "metadata": {},
   "outputs": [
    {
     "name": "stdout",
     "output_type": "stream",
     "text": [
      "6.0\n",
      "14.0\n"
     ]
    },
    {
     "data": {
      "image/png": "[encoded data removed]",
      "text/plain": [
       "<Figure size 432x288 with 1 Axes>"
      ]
     },
     "metadata": {
      "needs_background": "light"
     },
     "output_type": "display_data"
    }
   ],
   "source": [
    "####### Target boxplot\n",
    "import seaborn as sns\n",
    "sns.boxplot(data=df,y='F4',x='Target')\n",
    "print(df[df['Target']==\"Male\"]['F4'].median())\n",
    "print(df[df['Target']==\"Female\"]['F4'].median())"
   ]
  },
  {
   "cell_type": "code",
   "execution_count": 37,
   "metadata": {},
   "outputs": [
    {
     "name": "stdout",
     "output_type": "stream",
     "text": [
      "    F1  F2  F3    F4    F5  F6 Country  Color  Target\n",
      "0    0   1   2   3.0   4.0   5     IND    red    Male\n",
      "1    1   2   3   4.0   5.0   6      UK    red    Male\n",
      "2    2   3   4   5.0   6.0   7     IND    red    Male\n",
      "3    3   4   5   6.0   7.0   8      UK    red    Male\n",
      "4    4   5   6   7.0   8.0   9     IND  green    Male\n",
      "5    5   6   7   8.0   9.0  10      UK  green    Male\n",
      "6    6   7   8   9.0  10.0  11     IND  green    Male\n",
      "7    7   8   9  14.0  11.0  12      UK  green  Female\n",
      "8    8   9  10  14.0  12.0  13     IND  green  Female\n",
      "9    9  10  11  12.0  13.0  14      UK  green  Female\n",
      "10  10  11  12  13.0   NaN  15     IND   blue  Female\n",
      "11  11  12  13  14.0   NaN  16      UK   blue  Female\n",
      "12  12  13  14  15.0  16.0  17     IND   blue  Female\n",
      "13  13  14  15  16.0  17.0  18      UK   blue  Female\n"
     ]
    }
   ],
   "source": [
    "def impute_age(col):\n",
    "    Age = col[0]\n",
    "    Pclass = col[1]\n",
    "    \n",
    "    if pd.isnull(Age):\n",
    "\n",
    "        if Pclass == 'Male':\n",
    "            return 6\n",
    "\n",
    "        elif Pclass == 'Female':\n",
    "            return 14\n",
    "        \n",
    "\n",
    "    else:\n",
    "        return Age\n",
    "df['F4']=df[['F4','Target']].apply(impute_age,axis=1)\n",
    "print(df)"
   ]
  },
  {
   "cell_type": "code",
   "execution_count": 17,
   "metadata": {
    "scrolled": true
   },
   "outputs": [
    {
     "name": "stdout",
     "output_type": "stream",
     "text": [
      "    F1  F2  F3    F4    F5  F6 Country  Color  Target\n",
      "0    0   1   2   3.0   4.0   5     IND    red    Male\n",
      "1    1   2   3   4.0   5.0   6      UK    red    Male\n",
      "2    2   3   4   5.0   6.0   7     IND    red    Male\n",
      "3    3   4   5   6.0   7.0   8      UK    red    Male\n",
      "4    4   5   6   7.0   8.0   9     IND  green    Male\n",
      "5    5   6   7   8.0   9.0  10      UK  green    Male\n",
      "6    6   7   8   9.0  10.0  11     IND  green    Male\n",
      "7    7   8   9   NaN  11.0  12      UK  green  Female\n",
      "8    8   9  10   NaN  12.0  13     IND  green  Female\n",
      "9    9  10  11  12.0  13.0  14      UK  green  Female\n",
      "10  10  11  12  13.0   NaN  15     IND   blue  Female\n",
      "11  11  12  13  14.0   NaN  16      UK   blue  Female\n",
      "12  12  13  14  15.0  16.0  17     IND   blue  Female\n",
      "13  13  14  15  16.0  17.0  18      UK   blue  Female\n",
      "[[0. 0. 1.]\n",
      " [0. 0. 1.]\n",
      " [0. 0. 1.]\n",
      " [0. 0. 1.]\n",
      " [0. 1. 0.]\n",
      " [0. 1. 0.]\n",
      " [0. 1. 0.]\n",
      " [0. 1. 0.]\n",
      " [0. 1. 0.]\n",
      " [0. 1. 0.]\n",
      " [1. 0. 0.]\n",
      " [1. 0. 0.]\n",
      " [1. 0. 0.]\n",
      " [1. 0. 0.]]\n",
      "   blue green  red\n",
      "0   0.0   0.0  1.0\n",
      "1   0.0   0.0  1.0\n",
      "2   0.0   0.0  1.0\n",
      "3   0.0   0.0  1.0\n",
      "4   0.0   1.0  0.0\n",
      "5   0.0   1.0  0.0\n",
      "6   0.0   1.0  0.0\n",
      "7   0.0   1.0  0.0\n",
      "8   0.0   1.0  0.0\n",
      "9   0.0   1.0  0.0\n",
      "10  1.0   0.0  0.0\n",
      "11  1.0   0.0  0.0\n",
      "12  1.0   0.0  0.0\n",
      "13  1.0   0.0  0.0\n",
      "    F1  F2  F3    F4    F5  F6 Country  Target  (blue,)  (green,)  (red,)\n",
      "0    0   1   2   3.0   4.0   5     IND    Male      0.0       0.0     1.0\n",
      "1    1   2   3   4.0   5.0   6      UK    Male      0.0       0.0     1.0\n",
      "2    2   3   4   5.0   6.0   7     IND    Male      0.0       0.0     1.0\n",
      "3    3   4   5   6.0   7.0   8      UK    Male      0.0       0.0     1.0\n",
      "4    4   5   6   7.0   8.0   9     IND    Male      0.0       1.0     0.0\n",
      "5    5   6   7   8.0   9.0  10      UK    Male      0.0       1.0     0.0\n",
      "6    6   7   8   9.0  10.0  11     IND    Male      0.0       1.0     0.0\n",
      "7    7   8   9   NaN  11.0  12      UK  Female      0.0       1.0     0.0\n",
      "8    8   9  10   NaN  12.0  13     IND  Female      0.0       1.0     0.0\n",
      "9    9  10  11  12.0  13.0  14      UK  Female      0.0       1.0     0.0\n",
      "10  10  11  12  13.0   NaN  15     IND  Female      1.0       0.0     0.0\n",
      "11  11  12  13  14.0   NaN  16      UK  Female      1.0       0.0     0.0\n",
      "12  12  13  14  15.0  16.0  17     IND  Female      1.0       0.0     0.0\n",
      "13  13  14  15  16.0  17.0  18      UK  Female      1.0       0.0     0.0\n"
     ]
    }
   ],
   "source": [
    "#### SKLEARN OHE\n",
    "df=pd.read_csv('basics_data.csv') # read data\n",
    "print(df)\n",
    "from sklearn.preprocessing import OneHotEncoder\n",
    "ohe=OneHotEncoder()\n",
    "x=ohe.fit_transform(df[['Color']].values).toarray()\n",
    "print(x)\n",
    "df1=pd.DataFrame(x,columns=ohe.categories_)\n",
    "print(df1)\n",
    "df2=pd.concat([df,df1],axis=1)\n",
    "df2=df2.drop(['Color'],axis=1)\n",
    "print(df2)"
   ]
  },
  {
   "cell_type": "code",
   "execution_count": 18,
   "metadata": {},
   "outputs": [
    {
     "name": "stdout",
     "output_type": "stream",
     "text": [
      "(14, 3)\n",
      "(14,)\n"
     ]
    }
   ],
   "source": [
    "print(x.shape)\n",
    "print(y.shape)"
   ]
  },
  {
   "cell_type": "code",
   "execution_count": 19,
   "metadata": {},
   "outputs": [
    {
     "name": "stdout",
     "output_type": "stream",
     "text": [
      "(9, 3)\n",
      "(5, 3)\n"
     ]
    }
   ],
   "source": [
    "from sklearn.model_selection import train_test_split\n",
    "X_train, X_test, y_train, y_test = train_test_split(x, y, test_size=0.30, random_state=0)\n",
    "print(X_train.shape)\n",
    "print(X_test.shape)"
   ]
  },
  {
   "cell_type": "code",
   "execution_count": 20,
   "metadata": {},
   "outputs": [
    {
     "name": "stdout",
     "output_type": "stream",
     "text": [
      "[[ 1.41421356 -0.70710678 -0.70710678]\n",
      " [-0.70710678  1.41421356 -0.70710678]\n",
      " [-0.70710678 -0.70710678  1.41421356]\n",
      " [-0.70710678  1.41421356 -0.70710678]\n",
      " [ 1.41421356 -0.70710678 -0.70710678]\n",
      " [-0.70710678 -0.70710678  1.41421356]\n",
      " [-0.70710678 -0.70710678  1.41421356]\n",
      " [-0.70710678  1.41421356 -0.70710678]\n",
      " [ 1.41421356 -0.70710678 -0.70710678]]\n",
      "[[ 1.41421356 -0.70710678 -0.70710678]\n",
      " [-0.70710678  1.41421356 -0.70710678]\n",
      " [-0.70710678 -0.70710678  1.41421356]\n",
      " [-0.70710678  1.41421356 -0.70710678]\n",
      " [ 1.41421356 -0.70710678 -0.70710678]\n",
      " [-0.70710678 -0.70710678  1.41421356]\n",
      " [-0.70710678 -0.70710678  1.41421356]\n",
      " [-0.70710678  1.41421356 -0.70710678]\n",
      " [ 1.41421356 -0.70710678 -0.70710678]]\n"
     ]
    }
   ],
   "source": [
    "from sklearn.preprocessing import StandardScaler\n",
    "sc=StandardScaler()\n",
    "sc.fit(X_train)\n",
    "X_train_std=sc.transform(X_train)\n",
    "X_test_std=sc.transform(X_train)\n",
    "print(X_train_std)\n",
    "print(X_test_std)"
   ]
  },
  {
   "cell_type": "code",
   "execution_count": 21,
   "metadata": {},
   "outputs": [
    {
     "name": "stdout",
     "output_type": "stream",
     "text": [
      "[[1. 0. 0.]\n",
      " [0. 1. 0.]\n",
      " [0. 0. 1.]\n",
      " [0. 1. 0.]\n",
      " [1. 0. 0.]\n",
      " [0. 0. 1.]\n",
      " [0. 0. 1.]\n",
      " [0. 1. 0.]\n",
      " [1. 0. 0.]]\n",
      "[[1. 0. 0.]\n",
      " [0. 1. 0.]\n",
      " [0. 0. 1.]\n",
      " [0. 1. 0.]\n",
      " [1. 0. 0.]\n",
      " [0. 0. 1.]\n",
      " [0. 0. 1.]\n",
      " [0. 1. 0.]\n",
      " [1. 0. 0.]]\n"
     ]
    }
   ],
   "source": [
    "from sklearn.preprocessing import MinMaxScaler\n",
    "mms=MinMaxScaler()\n",
    "mms.fit(X_train)\n",
    "X_train_mms=mms.transform(X_train)\n",
    "X_test_mms=mms.transform(X_train)\n",
    "print(X_train_mms)\n",
    "print(X_test_mms)"
   ]
  },
  {
   "cell_type": "code",
   "execution_count": null,
   "metadata": {},
   "outputs": [],
   "source": []
  }
 ],
 "metadata": {
  "kernelspec": {
   "display_name": "Python 3",
   "language": "python",
   "name": "python3"
  },
  "language_info": {
   "codemirror_mode": {
    "name": "ipython",
    "version": 3
   },
   "file_extension": ".py",
   "mimetype": "text/x-python",
   "name": "python",
   "nbconvert_exporter": "python",
   "pygments_lexer": "ipython3",
   "version": "3.8.3"
  }
 },
 "nbformat": 4,
 "nbformat_minor": 4
}
